{
 "cells": [
  {
   "cell_type": "code",
   "execution_count": 237,
   "metadata": {},
   "outputs": [],
   "source": [
    "import numpy as np\n",
    "import pandas as pd\n",
    "import matplotlib.pyplot as plt"
   ]
  },
  {
   "cell_type": "code",
   "execution_count": 238,
   "metadata": {},
   "outputs": [
    {
     "data": {
      "text/html": [
       "<div>\n",
       "<style scoped>\n",
       "    .dataframe tbody tr th:only-of-type {\n",
       "        vertical-align: middle;\n",
       "    }\n",
       "\n",
       "    .dataframe tbody tr th {\n",
       "        vertical-align: top;\n",
       "    }\n",
       "\n",
       "    .dataframe thead th {\n",
       "        text-align: right;\n",
       "    }\n",
       "</style>\n",
       "<table border=\"1\" class=\"dataframe\">\n",
       "  <thead>\n",
       "    <tr style=\"text-align: right;\">\n",
       "      <th></th>\n",
       "      <th>Overall rank</th>\n",
       "      <th>Country or region</th>\n",
       "      <th>Score</th>\n",
       "      <th>GDP per capita</th>\n",
       "      <th>Social support</th>\n",
       "      <th>Healthy life expectancy</th>\n",
       "      <th>Freedom to make life choices</th>\n",
       "      <th>Generosity</th>\n",
       "      <th>Perceptions of corruption</th>\n",
       "    </tr>\n",
       "  </thead>\n",
       "  <tbody>\n",
       "    <tr>\n",
       "      <th>0</th>\n",
       "      <td>1</td>\n",
       "      <td>Finland</td>\n",
       "      <td>7.769</td>\n",
       "      <td>1.340</td>\n",
       "      <td>1.587</td>\n",
       "      <td>0.986</td>\n",
       "      <td>0.596</td>\n",
       "      <td>0.153</td>\n",
       "      <td>0.393</td>\n",
       "    </tr>\n",
       "    <tr>\n",
       "      <th>1</th>\n",
       "      <td>2</td>\n",
       "      <td>Denmark</td>\n",
       "      <td>7.600</td>\n",
       "      <td>1.383</td>\n",
       "      <td>1.573</td>\n",
       "      <td>0.996</td>\n",
       "      <td>0.592</td>\n",
       "      <td>0.252</td>\n",
       "      <td>0.410</td>\n",
       "    </tr>\n",
       "    <tr>\n",
       "      <th>2</th>\n",
       "      <td>3</td>\n",
       "      <td>Norway</td>\n",
       "      <td>7.554</td>\n",
       "      <td>1.488</td>\n",
       "      <td>1.582</td>\n",
       "      <td>1.028</td>\n",
       "      <td>0.603</td>\n",
       "      <td>0.271</td>\n",
       "      <td>0.341</td>\n",
       "    </tr>\n",
       "    <tr>\n",
       "      <th>3</th>\n",
       "      <td>4</td>\n",
       "      <td>Iceland</td>\n",
       "      <td>7.494</td>\n",
       "      <td>1.380</td>\n",
       "      <td>1.624</td>\n",
       "      <td>1.026</td>\n",
       "      <td>0.591</td>\n",
       "      <td>0.354</td>\n",
       "      <td>0.118</td>\n",
       "    </tr>\n",
       "    <tr>\n",
       "      <th>4</th>\n",
       "      <td>5</td>\n",
       "      <td>Netherlands</td>\n",
       "      <td>7.488</td>\n",
       "      <td>1.396</td>\n",
       "      <td>1.522</td>\n",
       "      <td>0.999</td>\n",
       "      <td>0.557</td>\n",
       "      <td>0.322</td>\n",
       "      <td>0.298</td>\n",
       "    </tr>\n",
       "    <tr>\n",
       "      <th>...</th>\n",
       "      <td>...</td>\n",
       "      <td>...</td>\n",
       "      <td>...</td>\n",
       "      <td>...</td>\n",
       "      <td>...</td>\n",
       "      <td>...</td>\n",
       "      <td>...</td>\n",
       "      <td>...</td>\n",
       "      <td>...</td>\n",
       "    </tr>\n",
       "    <tr>\n",
       "      <th>151</th>\n",
       "      <td>152</td>\n",
       "      <td>Rwanda</td>\n",
       "      <td>3.334</td>\n",
       "      <td>0.359</td>\n",
       "      <td>0.711</td>\n",
       "      <td>0.614</td>\n",
       "      <td>0.555</td>\n",
       "      <td>0.217</td>\n",
       "      <td>0.411</td>\n",
       "    </tr>\n",
       "    <tr>\n",
       "      <th>152</th>\n",
       "      <td>153</td>\n",
       "      <td>Tanzania</td>\n",
       "      <td>3.231</td>\n",
       "      <td>0.476</td>\n",
       "      <td>0.885</td>\n",
       "      <td>0.499</td>\n",
       "      <td>0.417</td>\n",
       "      <td>0.276</td>\n",
       "      <td>0.147</td>\n",
       "    </tr>\n",
       "    <tr>\n",
       "      <th>153</th>\n",
       "      <td>154</td>\n",
       "      <td>Afghanistan</td>\n",
       "      <td>3.203</td>\n",
       "      <td>0.350</td>\n",
       "      <td>0.517</td>\n",
       "      <td>0.361</td>\n",
       "      <td>0.000</td>\n",
       "      <td>0.158</td>\n",
       "      <td>0.025</td>\n",
       "    </tr>\n",
       "    <tr>\n",
       "      <th>154</th>\n",
       "      <td>155</td>\n",
       "      <td>Central African Republic</td>\n",
       "      <td>3.083</td>\n",
       "      <td>0.026</td>\n",
       "      <td>0.000</td>\n",
       "      <td>0.105</td>\n",
       "      <td>0.225</td>\n",
       "      <td>0.235</td>\n",
       "      <td>0.035</td>\n",
       "    </tr>\n",
       "    <tr>\n",
       "      <th>155</th>\n",
       "      <td>156</td>\n",
       "      <td>South Sudan</td>\n",
       "      <td>2.853</td>\n",
       "      <td>0.306</td>\n",
       "      <td>0.575</td>\n",
       "      <td>0.295</td>\n",
       "      <td>0.010</td>\n",
       "      <td>0.202</td>\n",
       "      <td>0.091</td>\n",
       "    </tr>\n",
       "  </tbody>\n",
       "</table>\n",
       "<p>156 rows × 9 columns</p>\n",
       "</div>"
      ],
      "text/plain": [
       "     Overall rank         Country or region  Score  GDP per capita  \\\n",
       "0               1                   Finland  7.769           1.340   \n",
       "1               2                   Denmark  7.600           1.383   \n",
       "2               3                    Norway  7.554           1.488   \n",
       "3               4                   Iceland  7.494           1.380   \n",
       "4               5               Netherlands  7.488           1.396   \n",
       "..            ...                       ...    ...             ...   \n",
       "151           152                    Rwanda  3.334           0.359   \n",
       "152           153                  Tanzania  3.231           0.476   \n",
       "153           154               Afghanistan  3.203           0.350   \n",
       "154           155  Central African Republic  3.083           0.026   \n",
       "155           156               South Sudan  2.853           0.306   \n",
       "\n",
       "     Social support  Healthy life expectancy  Freedom to make life choices  \\\n",
       "0             1.587                    0.986                         0.596   \n",
       "1             1.573                    0.996                         0.592   \n",
       "2             1.582                    1.028                         0.603   \n",
       "3             1.624                    1.026                         0.591   \n",
       "4             1.522                    0.999                         0.557   \n",
       "..              ...                      ...                           ...   \n",
       "151           0.711                    0.614                         0.555   \n",
       "152           0.885                    0.499                         0.417   \n",
       "153           0.517                    0.361                         0.000   \n",
       "154           0.000                    0.105                         0.225   \n",
       "155           0.575                    0.295                         0.010   \n",
       "\n",
       "     Generosity  Perceptions of corruption  \n",
       "0         0.153                      0.393  \n",
       "1         0.252                      0.410  \n",
       "2         0.271                      0.341  \n",
       "3         0.354                      0.118  \n",
       "4         0.322                      0.298  \n",
       "..          ...                        ...  \n",
       "151       0.217                      0.411  \n",
       "152       0.276                      0.147  \n",
       "153       0.158                      0.025  \n",
       "154       0.235                      0.035  \n",
       "155       0.202                      0.091  \n",
       "\n",
       "[156 rows x 9 columns]"
      ]
     },
     "execution_count": 238,
     "metadata": {},
     "output_type": "execute_result"
    }
   ],
   "source": [
    "df = pd.read_csv(\"2019.csv\")\n",
    "df"
   ]
  },
  {
   "cell_type": "code",
   "execution_count": 239,
   "metadata": {},
   "outputs": [
    {
     "data": {
      "text/plain": [
       "Overall rank                    0\n",
       "Country or region               0\n",
       "Score                           0\n",
       "GDP per capita                  0\n",
       "Social support                  0\n",
       "Healthy life expectancy         0\n",
       "Freedom to make life choices    0\n",
       "Generosity                      0\n",
       "Perceptions of corruption       0\n",
       "dtype: int64"
      ]
     },
     "execution_count": 239,
     "metadata": {},
     "output_type": "execute_result"
    }
   ],
   "source": [
    "df.isnull().sum()"
   ]
  },
  {
   "cell_type": "code",
   "execution_count": 240,
   "metadata": {},
   "outputs": [],
   "source": [
    "df = df.drop([\"Overall rank\"], axis=1)\n",
    "df2 = df.describe()\n",
    "df2 = df2.transpose()"
   ]
  },
  {
   "cell_type": "markdown",
   "metadata": {},
   "source": [
    "<hr>\n",
    "\n",
    "### Jawaban nomor 1\n",
    "\n",
    "##### Mean"
   ]
  },
  {
   "cell_type": "code",
   "execution_count": 241,
   "metadata": {},
   "outputs": [
    {
     "data": {
      "text/plain": [
       "Score                           5.407096\n",
       "GDP per capita                  0.905147\n",
       "Social support                  1.208814\n",
       "Healthy life expectancy         0.725244\n",
       "Freedom to make life choices    0.392571\n",
       "Generosity                      0.184846\n",
       "Perceptions of corruption       0.110603\n",
       "Name: mean, dtype: float64"
      ]
     },
     "metadata": {},
     "output_type": "display_data"
    }
   ],
   "source": [
    "display(df2['mean'])"
   ]
  },
  {
   "cell_type": "markdown",
   "metadata": {},
   "source": [
    "#### Median"
   ]
  },
  {
   "cell_type": "code",
   "execution_count": 242,
   "metadata": {},
   "outputs": [
    {
     "data": {
      "text/plain": [
       "Score                           5.3795\n",
       "GDP per capita                  0.9600\n",
       "Social support                  1.2715\n",
       "Healthy life expectancy         0.7890\n",
       "Freedom to make life choices    0.4170\n",
       "Generosity                      0.1775\n",
       "Perceptions of corruption       0.0855\n",
       "Name: 50%, dtype: float64"
      ]
     },
     "metadata": {},
     "output_type": "display_data"
    }
   ],
   "source": [
    "display(df2['50%'])"
   ]
  },
  {
   "cell_type": "markdown",
   "metadata": {},
   "source": [
    "#### Modus"
   ]
  },
  {
   "cell_type": "code",
   "execution_count": 243,
   "metadata": {},
   "outputs": [
    {
     "data": {
      "text/html": [
       "<div>\n",
       "<style scoped>\n",
       "    .dataframe tbody tr th:only-of-type {\n",
       "        vertical-align: middle;\n",
       "    }\n",
       "\n",
       "    .dataframe tbody tr th {\n",
       "        vertical-align: top;\n",
       "    }\n",
       "\n",
       "    .dataframe thead th {\n",
       "        text-align: right;\n",
       "    }\n",
       "</style>\n",
       "<table border=\"1\" class=\"dataframe\">\n",
       "  <thead>\n",
       "    <tr style=\"text-align: right;\">\n",
       "      <th></th>\n",
       "      <th>Score</th>\n",
       "      <th>GDP per capita</th>\n",
       "      <th>Social support</th>\n",
       "      <th>Healthy life expectancy</th>\n",
       "      <th>Freedom to make life choices</th>\n",
       "      <th>Generosity</th>\n",
       "      <th>Perceptions of corruption</th>\n",
       "    </tr>\n",
       "  </thead>\n",
       "  <tbody>\n",
       "    <tr>\n",
       "      <th>0</th>\n",
       "      <td>5.208</td>\n",
       "      <td>0.96</td>\n",
       "      <td>1.465</td>\n",
       "      <td>0.815</td>\n",
       "      <td>0.498</td>\n",
       "      <td>0.153</td>\n",
       "      <td>0.028</td>\n",
       "    </tr>\n",
       "    <tr>\n",
       "      <th>1</th>\n",
       "      <td>NaN</td>\n",
       "      <td>NaN</td>\n",
       "      <td>NaN</td>\n",
       "      <td>0.999</td>\n",
       "      <td>0.508</td>\n",
       "      <td>NaN</td>\n",
       "      <td>0.078</td>\n",
       "    </tr>\n",
       "    <tr>\n",
       "      <th>2</th>\n",
       "      <td>NaN</td>\n",
       "      <td>NaN</td>\n",
       "      <td>NaN</td>\n",
       "      <td>NaN</td>\n",
       "      <td>0.557</td>\n",
       "      <td>NaN</td>\n",
       "      <td>0.089</td>\n",
       "    </tr>\n",
       "  </tbody>\n",
       "</table>\n",
       "</div>"
      ],
      "text/plain": [
       "   Score  GDP per capita  Social support  Healthy life expectancy  \\\n",
       "0  5.208            0.96           1.465                    0.815   \n",
       "1    NaN             NaN             NaN                    0.999   \n",
       "2    NaN             NaN             NaN                      NaN   \n",
       "\n",
       "   Freedom to make life choices  Generosity  Perceptions of corruption  \n",
       "0                         0.498       0.153                      0.028  \n",
       "1                         0.508         NaN                      0.078  \n",
       "2                         0.557         NaN                      0.089  "
      ]
     },
     "execution_count": 243,
     "metadata": {},
     "output_type": "execute_result"
    }
   ],
   "source": [
    "df.mode(axis = 0, dropna= True, numeric_only=True)"
   ]
  },
  {
   "cell_type": "markdown",
   "metadata": {},
   "source": [
    "#### Range"
   ]
  },
  {
   "cell_type": "code",
   "execution_count": 244,
   "metadata": {},
   "outputs": [
    {
     "data": {
      "text/plain": [
       "Score                           4.916\n",
       "GDP per capita                  1.684\n",
       "Social support                  1.624\n",
       "Healthy life expectancy         1.141\n",
       "Freedom to make life choices    0.631\n",
       "Generosity                      0.566\n",
       "Perceptions of corruption       0.453\n",
       "Name: range, dtype: float64"
      ]
     },
     "metadata": {},
     "output_type": "display_data"
    }
   ],
   "source": [
    "df2['range'] = df2['max']-df2['min']\n",
    "display(df2['range'])"
   ]
  },
  {
   "cell_type": "markdown",
   "metadata": {},
   "source": [
    "####  Q1"
   ]
  },
  {
   "cell_type": "code",
   "execution_count": 245,
   "metadata": {},
   "outputs": [
    {
     "data": {
      "text/plain": [
       "Score                           4.54450\n",
       "GDP per capita                  0.60275\n",
       "Social support                  1.05575\n",
       "Healthy life expectancy         0.54775\n",
       "Freedom to make life choices    0.30800\n",
       "Generosity                      0.10875\n",
       "Perceptions of corruption       0.04700\n",
       "Name: 25%, dtype: float64"
      ]
     },
     "metadata": {},
     "output_type": "display_data"
    }
   ],
   "source": [
    "display(df2['25%'])"
   ]
  },
  {
   "cell_type": "markdown",
   "metadata": {},
   "source": [
    "### Q3"
   ]
  },
  {
   "cell_type": "code",
   "execution_count": 246,
   "metadata": {},
   "outputs": [
    {
     "data": {
      "text/plain": [
       "Score                           6.18450\n",
       "GDP per capita                  1.23250\n",
       "Social support                  1.45250\n",
       "Healthy life expectancy         0.88175\n",
       "Freedom to make life choices    0.50725\n",
       "Generosity                      0.24825\n",
       "Perceptions of corruption       0.14125\n",
       "Name: 75%, dtype: float64"
      ]
     },
     "metadata": {},
     "output_type": "display_data"
    }
   ],
   "source": [
    "display(df2['75%'])"
   ]
  },
  {
   "cell_type": "markdown",
   "metadata": {},
   "source": [
    "#### Standar Deviasi"
   ]
  },
  {
   "cell_type": "code",
   "execution_count": 247,
   "metadata": {},
   "outputs": [
    {
     "data": {
      "text/plain": [
       "Score                           1.113120\n",
       "GDP per capita                  0.398389\n",
       "Social support                  0.299191\n",
       "Healthy life expectancy         0.242124\n",
       "Freedom to make life choices    0.143289\n",
       "Generosity                      0.095254\n",
       "Perceptions of corruption       0.094538\n",
       "Name: std, dtype: float64"
      ]
     },
     "metadata": {},
     "output_type": "display_data"
    }
   ],
   "source": [
    "display(df2['std'])"
   ]
  },
  {
   "cell_type": "markdown",
   "metadata": {},
   "source": [
    "#### Variance"
   ]
  },
  {
   "cell_type": "code",
   "execution_count": 248,
   "metadata": {},
   "outputs": [
    {
     "data": {
      "text/plain": [
       "Score                           1.239036\n",
       "GDP per capita                  0.158714\n",
       "Social support                  0.089515\n",
       "Healthy life expectancy         0.058624\n",
       "Freedom to make life choices    0.020532\n",
       "Generosity                      0.009073\n",
       "Perceptions of corruption       0.008937\n",
       "Name: var, dtype: float64"
      ]
     },
     "metadata": {},
     "output_type": "display_data"
    }
   ],
   "source": [
    "df2['var'] = df2['std'] ** 2\n",
    "display(df2['var'])"
   ]
  },
  {
   "cell_type": "markdown",
   "metadata": {},
   "source": [
    "#### Z score tiap data point"
   ]
  },
  {
   "cell_type": "code",
   "execution_count": 249,
   "metadata": {},
   "outputs": [
    {
     "data": {
      "text/html": [
       "<div>\n",
       "<style scoped>\n",
       "    .dataframe tbody tr th:only-of-type {\n",
       "        vertical-align: middle;\n",
       "    }\n",
       "\n",
       "    .dataframe tbody tr th {\n",
       "        vertical-align: top;\n",
       "    }\n",
       "\n",
       "    .dataframe thead th {\n",
       "        text-align: right;\n",
       "    }\n",
       "</style>\n",
       "<table border=\"1\" class=\"dataframe\">\n",
       "  <thead>\n",
       "    <tr style=\"text-align: right;\">\n",
       "      <th></th>\n",
       "      <th>Country or region</th>\n",
       "      <th>Score</th>\n",
       "      <th>GDP per capita</th>\n",
       "      <th>Social support</th>\n",
       "      <th>Healthy life expectancy</th>\n",
       "      <th>Freedom to make life choices</th>\n",
       "      <th>Generosity</th>\n",
       "      <th>Perceptions of corruption</th>\n",
       "      <th>Score_zscore</th>\n",
       "      <th>GDP per capita_zscore</th>\n",
       "      <th>Social support_zscore</th>\n",
       "      <th>Healthy life expectancy_zscore</th>\n",
       "      <th>Freedom to make life choices_zscore</th>\n",
       "      <th>Generosity_zscore</th>\n",
       "      <th>Perceptions of corruption_zscore</th>\n",
       "    </tr>\n",
       "  </thead>\n",
       "  <tbody>\n",
       "    <tr>\n",
       "      <th>0</th>\n",
       "      <td>Finland</td>\n",
       "      <td>7.769</td>\n",
       "      <td>1.340</td>\n",
       "      <td>1.587</td>\n",
       "      <td>0.986</td>\n",
       "      <td>0.596</td>\n",
       "      <td>0.153</td>\n",
       "      <td>0.393</td>\n",
       "      <td>2.121877</td>\n",
       "      <td>1.091526</td>\n",
       "      <td>1.264027</td>\n",
       "      <td>1.076954</td>\n",
       "      <td>1.419710</td>\n",
       "      <td>-0.334327</td>\n",
       "      <td>2.987137</td>\n",
       "    </tr>\n",
       "    <tr>\n",
       "      <th>1</th>\n",
       "      <td>Denmark</td>\n",
       "      <td>7.600</td>\n",
       "      <td>1.383</td>\n",
       "      <td>1.573</td>\n",
       "      <td>0.996</td>\n",
       "      <td>0.592</td>\n",
       "      <td>0.252</td>\n",
       "      <td>0.410</td>\n",
       "      <td>1.970052</td>\n",
       "      <td>1.199461</td>\n",
       "      <td>1.217234</td>\n",
       "      <td>1.118255</td>\n",
       "      <td>1.391794</td>\n",
       "      <td>0.704994</td>\n",
       "      <td>3.166959</td>\n",
       "    </tr>\n",
       "    <tr>\n",
       "      <th>2</th>\n",
       "      <td>Norway</td>\n",
       "      <td>7.554</td>\n",
       "      <td>1.488</td>\n",
       "      <td>1.582</td>\n",
       "      <td>1.028</td>\n",
       "      <td>0.603</td>\n",
       "      <td>0.271</td>\n",
       "      <td>0.341</td>\n",
       "      <td>1.928727</td>\n",
       "      <td>1.463022</td>\n",
       "      <td>1.247315</td>\n",
       "      <td>1.250419</td>\n",
       "      <td>1.468562</td>\n",
       "      <td>0.904460</td>\n",
       "      <td>2.437092</td>\n",
       "    </tr>\n",
       "    <tr>\n",
       "      <th>3</th>\n",
       "      <td>Iceland</td>\n",
       "      <td>7.494</td>\n",
       "      <td>1.380</td>\n",
       "      <td>1.624</td>\n",
       "      <td>1.026</td>\n",
       "      <td>0.591</td>\n",
       "      <td>0.354</td>\n",
       "      <td>0.118</td>\n",
       "      <td>1.874824</td>\n",
       "      <td>1.191931</td>\n",
       "      <td>1.387693</td>\n",
       "      <td>1.242159</td>\n",
       "      <td>1.384816</td>\n",
       "      <td>1.775811</td>\n",
       "      <td>0.078248</td>\n",
       "    </tr>\n",
       "    <tr>\n",
       "      <th>4</th>\n",
       "      <td>Netherlands</td>\n",
       "      <td>7.488</td>\n",
       "      <td>1.396</td>\n",
       "      <td>1.522</td>\n",
       "      <td>0.999</td>\n",
       "      <td>0.557</td>\n",
       "      <td>0.322</td>\n",
       "      <td>0.298</td>\n",
       "      <td>1.869434</td>\n",
       "      <td>1.232092</td>\n",
       "      <td>1.046774</td>\n",
       "      <td>1.130646</td>\n",
       "      <td>1.147534</td>\n",
       "      <td>1.439868</td>\n",
       "      <td>1.982248</td>\n",
       "    </tr>\n",
       "    <tr>\n",
       "      <th>...</th>\n",
       "      <td>...</td>\n",
       "      <td>...</td>\n",
       "      <td>...</td>\n",
       "      <td>...</td>\n",
       "      <td>...</td>\n",
       "      <td>...</td>\n",
       "      <td>...</td>\n",
       "      <td>...</td>\n",
       "      <td>...</td>\n",
       "      <td>...</td>\n",
       "      <td>...</td>\n",
       "      <td>...</td>\n",
       "      <td>...</td>\n",
       "      <td>...</td>\n",
       "      <td>...</td>\n",
       "    </tr>\n",
       "    <tr>\n",
       "      <th>151</th>\n",
       "      <td>Rwanda</td>\n",
       "      <td>3.334</td>\n",
       "      <td>0.359</td>\n",
       "      <td>0.711</td>\n",
       "      <td>0.614</td>\n",
       "      <td>0.555</td>\n",
       "      <td>0.217</td>\n",
       "      <td>0.411</td>\n",
       "      <td>-1.862420</td>\n",
       "      <td>-1.370888</td>\n",
       "      <td>-1.663865</td>\n",
       "      <td>-0.459449</td>\n",
       "      <td>1.133576</td>\n",
       "      <td>0.337557</td>\n",
       "      <td>3.177537</td>\n",
       "    </tr>\n",
       "    <tr>\n",
       "      <th>152</th>\n",
       "      <td>Tanzania</td>\n",
       "      <td>3.231</td>\n",
       "      <td>0.476</td>\n",
       "      <td>0.885</td>\n",
       "      <td>0.499</td>\n",
       "      <td>0.417</td>\n",
       "      <td>0.276</td>\n",
       "      <td>0.147</td>\n",
       "      <td>-1.954952</td>\n",
       "      <td>-1.077206</td>\n",
       "      <td>-1.082297</td>\n",
       "      <td>-0.934412</td>\n",
       "      <td>0.170490</td>\n",
       "      <td>0.956951</td>\n",
       "      <td>0.385004</td>\n",
       "    </tr>\n",
       "    <tr>\n",
       "      <th>153</th>\n",
       "      <td>Afghanistan</td>\n",
       "      <td>3.203</td>\n",
       "      <td>0.350</td>\n",
       "      <td>0.517</td>\n",
       "      <td>0.361</td>\n",
       "      <td>0.000</td>\n",
       "      <td>0.158</td>\n",
       "      <td>0.025</td>\n",
       "      <td>-1.980107</td>\n",
       "      <td>-1.393479</td>\n",
       "      <td>-2.312279</td>\n",
       "      <td>-1.504368</td>\n",
       "      <td>-2.739702</td>\n",
       "      <td>-0.281836</td>\n",
       "      <td>-0.905485</td>\n",
       "    </tr>\n",
       "    <tr>\n",
       "      <th>154</th>\n",
       "      <td>Central African Republic</td>\n",
       "      <td>3.083</td>\n",
       "      <td>0.026</td>\n",
       "      <td>0.000</td>\n",
       "      <td>0.105</td>\n",
       "      <td>0.225</td>\n",
       "      <td>0.235</td>\n",
       "      <td>0.035</td>\n",
       "      <td>-2.087912</td>\n",
       "      <td>-2.206754</td>\n",
       "      <td>-4.040270</td>\n",
       "      <td>-2.561677</td>\n",
       "      <td>-1.169454</td>\n",
       "      <td>0.526525</td>\n",
       "      <td>-0.799707</td>\n",
       "    </tr>\n",
       "    <tr>\n",
       "      <th>155</th>\n",
       "      <td>South Sudan</td>\n",
       "      <td>2.853</td>\n",
       "      <td>0.306</td>\n",
       "      <td>0.575</td>\n",
       "      <td>0.295</td>\n",
       "      <td>0.010</td>\n",
       "      <td>0.202</td>\n",
       "      <td>0.091</td>\n",
       "      <td>-2.294538</td>\n",
       "      <td>-1.503924</td>\n",
       "      <td>-2.118424</td>\n",
       "      <td>-1.776956</td>\n",
       "      <td>-2.669914</td>\n",
       "      <td>0.180084</td>\n",
       "      <td>-0.207352</td>\n",
       "    </tr>\n",
       "  </tbody>\n",
       "</table>\n",
       "<p>156 rows × 15 columns</p>\n",
       "</div>"
      ],
      "text/plain": [
       "            Country or region  Score  GDP per capita  Social support  \\\n",
       "0                     Finland  7.769           1.340           1.587   \n",
       "1                     Denmark  7.600           1.383           1.573   \n",
       "2                      Norway  7.554           1.488           1.582   \n",
       "3                     Iceland  7.494           1.380           1.624   \n",
       "4                 Netherlands  7.488           1.396           1.522   \n",
       "..                        ...    ...             ...             ...   \n",
       "151                    Rwanda  3.334           0.359           0.711   \n",
       "152                  Tanzania  3.231           0.476           0.885   \n",
       "153               Afghanistan  3.203           0.350           0.517   \n",
       "154  Central African Republic  3.083           0.026           0.000   \n",
       "155               South Sudan  2.853           0.306           0.575   \n",
       "\n",
       "     Healthy life expectancy  Freedom to make life choices  Generosity  \\\n",
       "0                      0.986                         0.596       0.153   \n",
       "1                      0.996                         0.592       0.252   \n",
       "2                      1.028                         0.603       0.271   \n",
       "3                      1.026                         0.591       0.354   \n",
       "4                      0.999                         0.557       0.322   \n",
       "..                       ...                           ...         ...   \n",
       "151                    0.614                         0.555       0.217   \n",
       "152                    0.499                         0.417       0.276   \n",
       "153                    0.361                         0.000       0.158   \n",
       "154                    0.105                         0.225       0.235   \n",
       "155                    0.295                         0.010       0.202   \n",
       "\n",
       "     Perceptions of corruption  Score_zscore  GDP per capita_zscore  \\\n",
       "0                        0.393      2.121877               1.091526   \n",
       "1                        0.410      1.970052               1.199461   \n",
       "2                        0.341      1.928727               1.463022   \n",
       "3                        0.118      1.874824               1.191931   \n",
       "4                        0.298      1.869434               1.232092   \n",
       "..                         ...           ...                    ...   \n",
       "151                      0.411     -1.862420              -1.370888   \n",
       "152                      0.147     -1.954952              -1.077206   \n",
       "153                      0.025     -1.980107              -1.393479   \n",
       "154                      0.035     -2.087912              -2.206754   \n",
       "155                      0.091     -2.294538              -1.503924   \n",
       "\n",
       "     Social support_zscore  Healthy life expectancy_zscore  \\\n",
       "0                 1.264027                        1.076954   \n",
       "1                 1.217234                        1.118255   \n",
       "2                 1.247315                        1.250419   \n",
       "3                 1.387693                        1.242159   \n",
       "4                 1.046774                        1.130646   \n",
       "..                     ...                             ...   \n",
       "151              -1.663865                       -0.459449   \n",
       "152              -1.082297                       -0.934412   \n",
       "153              -2.312279                       -1.504368   \n",
       "154              -4.040270                       -2.561677   \n",
       "155              -2.118424                       -1.776956   \n",
       "\n",
       "     Freedom to make life choices_zscore  Generosity_zscore  \\\n",
       "0                               1.419710          -0.334327   \n",
       "1                               1.391794           0.704994   \n",
       "2                               1.468562           0.904460   \n",
       "3                               1.384816           1.775811   \n",
       "4                               1.147534           1.439868   \n",
       "..                                   ...                ...   \n",
       "151                             1.133576           0.337557   \n",
       "152                             0.170490           0.956951   \n",
       "153                            -2.739702          -0.281836   \n",
       "154                            -1.169454           0.526525   \n",
       "155                            -2.669914           0.180084   \n",
       "\n",
       "     Perceptions of corruption_zscore  \n",
       "0                            2.987137  \n",
       "1                            3.166959  \n",
       "2                            2.437092  \n",
       "3                            0.078248  \n",
       "4                            1.982248  \n",
       "..                                ...  \n",
       "151                          3.177537  \n",
       "152                          0.385004  \n",
       "153                         -0.905485  \n",
       "154                         -0.799707  \n",
       "155                         -0.207352  \n",
       "\n",
       "[156 rows x 15 columns]"
      ]
     },
     "metadata": {},
     "output_type": "display_data"
    }
   ],
   "source": [
    "dfz = df.copy()\n",
    "dfzcols= list(dfz.columns)\n",
    "dfzcols.remove('Country or region')\n",
    "for i in dfzcols :\n",
    "    izscore = i + \"_zscore\"\n",
    "    dfz[izscore] = (dfz[i] - dfz[i].mean())/dfz[i].std()\n",
    "display(dfz)"
   ]
  },
  {
   "cell_type": "markdown",
   "metadata": {},
   "source": [
    "<hr>\n",
    "\n",
    "### Jawaban nomor 2"
   ]
  },
  {
   "cell_type": "markdown",
   "metadata": {},
   "source": [
    "#### IQR Method"
   ]
  },
  {
   "cell_type": "code",
   "execution_count": 250,
   "metadata": {},
   "outputs": [
    {
     "data": {
      "text/plain": [
       "Score                           1.64000\n",
       "GDP per capita                  0.62975\n",
       "Social support                  0.39675\n",
       "Healthy life expectancy         0.33400\n",
       "Freedom to make life choices    0.19925\n",
       "Generosity                      0.13950\n",
       "Perceptions of corruption       0.09425\n",
       "Name: IQR, dtype: float64"
      ]
     },
     "execution_count": 250,
     "metadata": {},
     "output_type": "execute_result"
    }
   ],
   "source": [
    "df2['IQR'] = df2['75%']-df2['25%']\n",
    "df2['IQR']"
   ]
  },
  {
   "cell_type": "code",
   "execution_count": 251,
   "metadata": {},
   "outputs": [
    {
     "data": {
      "text/plain": [
       "Score                           8.644500\n",
       "GDP per capita                  2.177125\n",
       "Social support                  2.047625\n",
       "Healthy life expectancy         1.382750\n",
       "Freedom to make life choices    0.806125\n",
       "Generosity                      0.457500\n",
       "Perceptions of corruption       0.282625\n",
       "Name: ho, dtype: float64"
      ]
     },
     "execution_count": 251,
     "metadata": {},
     "output_type": "execute_result"
    }
   ],
   "source": [
    "df2['ho'] = df2['75%'] + (1.5 * df2['IQR'])\n",
    "df2['ho']"
   ]
  },
  {
   "cell_type": "code",
   "execution_count": 252,
   "metadata": {},
   "outputs": [
    {
     "data": {
      "text/plain": [
       "Score                           2.084500\n",
       "GDP per capita                 -0.341875\n",
       "Social support                  0.460625\n",
       "Healthy life expectancy         0.046750\n",
       "Freedom to make life choices    0.009125\n",
       "Generosity                     -0.100500\n",
       "Perceptions of corruption      -0.094375\n",
       "Name: lo, dtype: float64"
      ]
     },
     "execution_count": 252,
     "metadata": {},
     "output_type": "execute_result"
    }
   ],
   "source": [
    "df2['lo'] = df2['25%'] - (1.5 * df2['IQR'])\n",
    "df2['lo']"
   ]
  },
  {
   "cell_type": "code",
   "execution_count": 253,
   "metadata": {},
   "outputs": [],
   "source": [
    "dfcols= list(df.columns)\n",
    "dfcols.remove('Country or region')"
   ]
  },
  {
   "cell_type": "markdown",
   "metadata": {},
   "source": [
    "### Diatas High Outlier IQR"
   ]
  },
  {
   "cell_type": "code",
   "execution_count": 254,
   "metadata": {},
   "outputs": [
    {
     "data": {
      "text/plain": [
       "Series([], Name: Score, dtype: float64)"
      ]
     },
     "metadata": {},
     "output_type": "display_data"
    },
    {
     "data": {
      "text/plain": [
       "Series([], Name: GDP per capita, dtype: float64)"
      ]
     },
     "metadata": {},
     "output_type": "display_data"
    },
    {
     "data": {
      "text/plain": [
       "Series([], Name: Social support, dtype: float64)"
      ]
     },
     "metadata": {},
     "output_type": "display_data"
    },
    {
     "data": {
      "text/plain": [
       "Series([], Name: Healthy life expectancy, dtype: float64)"
      ]
     },
     "metadata": {},
     "output_type": "display_data"
    },
    {
     "data": {
      "text/plain": [
       "Series([], Name: Freedom to make life choices, dtype: float64)"
      ]
     },
     "metadata": {},
     "output_type": "display_data"
    },
    {
     "data": {
      "text/plain": [
       "91     0.498\n",
       "130    0.566\n",
       "Name: Generosity, dtype: float64"
      ]
     },
     "metadata": {},
     "output_type": "display_data"
    },
    {
     "data": {
      "text/plain": [
       "0      0.393\n",
       "1      0.410\n",
       "2      0.341\n",
       "4      0.298\n",
       "5      0.343\n",
       "6      0.373\n",
       "7      0.380\n",
       "8      0.308\n",
       "10     0.290\n",
       "13     0.316\n",
       "15     0.310\n",
       "33     0.453\n",
       "75     0.287\n",
       "151    0.411\n",
       "Name: Perceptions of corruption, dtype: float64"
      ]
     },
     "metadata": {},
     "output_type": "display_data"
    }
   ],
   "source": [
    "for i in dfcols :\n",
    "    display(df[i][df[i]>df2['ho'][i]])"
   ]
  },
  {
   "cell_type": "markdown",
   "metadata": {},
   "source": [
    "### Dibawah Low Outlier IQR"
   ]
  },
  {
   "cell_type": "code",
   "execution_count": 255,
   "metadata": {},
   "outputs": [
    {
     "data": {
      "text/plain": [
       "Series([], Name: Score, dtype: float64)"
      ]
     },
     "metadata": {},
     "output_type": "display_data"
    },
    {
     "data": {
      "text/plain": [
       "Series([], Name: GDP per capita, dtype: float64)"
      ]
     },
     "metadata": {},
     "output_type": "display_data"
    },
    {
     "data": {
      "text/plain": [
       "101    0.437\n",
       "144    0.447\n",
       "148    0.378\n",
       "154    0.000\n",
       "Name: Social support, dtype: float64"
      ]
     },
     "metadata": {},
     "output_type": "display_data"
    },
    {
     "data": {
      "text/plain": [
       "134    0.0\n",
       "Name: Healthy life expectancy, dtype: float64"
      ]
     },
     "metadata": {},
     "output_type": "display_data"
    },
    {
     "data": {
      "text/plain": [
       "153    0.0\n",
       "Name: Freedom to make life choices, dtype: float64"
      ]
     },
     "metadata": {},
     "output_type": "display_data"
    },
    {
     "data": {
      "text/plain": [
       "Series([], Name: Generosity, dtype: float64)"
      ]
     },
     "metadata": {},
     "output_type": "display_data"
    },
    {
     "data": {
      "text/plain": [
       "Series([], Name: Perceptions of corruption, dtype: float64)"
      ]
     },
     "metadata": {},
     "output_type": "display_data"
    }
   ],
   "source": [
    "for i in dfcols :\n",
    "    display(df[i][df[i]<df2['lo'][i]])"
   ]
  },
  {
   "cell_type": "markdown",
   "metadata": {},
   "source": [
    "### Z-Score Method"
   ]
  },
  {
   "cell_type": "code",
   "execution_count": 256,
   "metadata": {},
   "outputs": [
    {
     "data": {
      "text/plain": [
       "Score                           7.633336\n",
       "GDP per capita                  1.701926\n",
       "Social support                  1.807197\n",
       "Healthy life expectancy         1.209492\n",
       "Freedom to make life choices    0.679149\n",
       "Generosity                      0.375355\n",
       "Perceptions of corruption       0.299678\n",
       "Name: ho_z, dtype: float64"
      ]
     },
     "execution_count": 256,
     "metadata": {},
     "output_type": "execute_result"
    }
   ],
   "source": [
    "df2['ho_z'] = df2['mean'] + (2 * df2['std'])\n",
    "df2['ho_z']"
   ]
  },
  {
   "cell_type": "code",
   "execution_count": 257,
   "metadata": {},
   "outputs": [
    {
     "data": {
      "text/plain": [
       "Score                           3.180856\n",
       "GDP per capita                  0.108369\n",
       "Social support                  0.610431\n",
       "Healthy life expectancy         0.240996\n",
       "Freedom to make life choices    0.105992\n",
       "Generosity                     -0.005663\n",
       "Perceptions of corruption      -0.078473\n",
       "Name: lo_z, dtype: float64"
      ]
     },
     "execution_count": 257,
     "metadata": {},
     "output_type": "execute_result"
    }
   ],
   "source": [
    "df2['lo_z'] = df2['mean'] - (2 * df2['std'])\n",
    "df2['lo_z']"
   ]
  },
  {
   "cell_type": "markdown",
   "metadata": {},
   "source": [
    "### Diatas High Outlier IQR"
   ]
  },
  {
   "cell_type": "code",
   "execution_count": 258,
   "metadata": {},
   "outputs": [
    {
     "data": {
      "text/plain": [
       "0    7.769\n",
       "Name: Score, dtype: float64"
      ]
     },
     "metadata": {},
     "output_type": "display_data"
    },
    {
     "data": {
      "text/plain": [
       "Series([], Name: GDP per capita, dtype: float64)"
      ]
     },
     "metadata": {},
     "output_type": "display_data"
    },
    {
     "data": {
      "text/plain": [
       "Series([], Name: Social support, dtype: float64)"
      ]
     },
     "metadata": {},
     "output_type": "display_data"
    },
    {
     "data": {
      "text/plain": [
       "Series([], Name: Healthy life expectancy, dtype: float64)"
      ]
     },
     "metadata": {},
     "output_type": "display_data"
    },
    {
     "data": {
      "text/plain": [
       "Series([], Name: Freedom to make life choices, dtype: float64)"
      ]
     },
     "metadata": {},
     "output_type": "display_data"
    },
    {
     "data": {
      "text/plain": [
       "91     0.498\n",
       "130    0.566\n",
       "146    0.419\n",
       "Name: Generosity, dtype: float64"
      ]
     },
     "metadata": {},
     "output_type": "display_data"
    },
    {
     "data": {
      "text/plain": [
       "0      0.393\n",
       "1      0.410\n",
       "2      0.341\n",
       "5      0.343\n",
       "6      0.373\n",
       "7      0.380\n",
       "8      0.308\n",
       "13     0.316\n",
       "15     0.310\n",
       "33     0.453\n",
       "151    0.411\n",
       "Name: Perceptions of corruption, dtype: float64"
      ]
     },
     "metadata": {},
     "output_type": "display_data"
    }
   ],
   "source": [
    "for i in dfcols :\n",
    "    display(df[i][df[i]>df2['ho_z'][i]])"
   ]
  },
  {
   "cell_type": "markdown",
   "metadata": {},
   "source": [
    "### Dibawah Low Outlier Z score"
   ]
  },
  {
   "cell_type": "code",
   "execution_count": 259,
   "metadata": {},
   "outputs": [
    {
     "data": {
      "text/plain": [
       "154    3.083\n",
       "155    2.853\n",
       "Name: Score, dtype: float64"
      ]
     },
     "metadata": {},
     "output_type": "display_data"
    },
    {
     "data": {
      "text/plain": [
       "111    0.000\n",
       "126    0.094\n",
       "140    0.073\n",
       "144    0.046\n",
       "154    0.026\n",
       "Name: GDP per capita, dtype: float64"
      ]
     },
     "metadata": {},
     "output_type": "display_data"
    },
    {
     "data": {
      "text/plain": [
       "101    0.437\n",
       "138    0.572\n",
       "144    0.447\n",
       "148    0.378\n",
       "149    0.560\n",
       "153    0.517\n",
       "154    0.000\n",
       "155    0.575\n",
       "Name: Social support, dtype: float64"
      ]
     },
     "metadata": {},
     "output_type": "display_data"
    },
    {
     "data": {
      "text/plain": [
       "98     0.232\n",
       "131    0.192\n",
       "134    0.000\n",
       "143    0.168\n",
       "154    0.105\n",
       "Name: Healthy life expectancy, dtype: float64"
      ]
     },
     "metadata": {},
     "output_type": "display_data"
    },
    {
     "data": {
      "text/plain": [
       "81     0.067\n",
       "87     0.086\n",
       "121    0.066\n",
       "146    0.026\n",
       "148    0.013\n",
       "153    0.000\n",
       "155    0.010\n",
       "Name: Freedom to make life choices, dtype: float64"
      ]
     },
     "metadata": {},
     "output_type": "display_data"
    },
    {
     "data": {
      "text/plain": [
       "Series([], Name: Generosity, dtype: float64)"
      ]
     },
     "metadata": {},
     "output_type": "display_data"
    },
    {
     "data": {
      "text/plain": [
       "Series([], Name: Perceptions of corruption, dtype: float64)"
      ]
     },
     "metadata": {},
     "output_type": "display_data"
    }
   ],
   "source": [
    "for i in dfcols :\n",
    "    display(df[i][df[i]<df2['lo_z'][i]])"
   ]
  },
  {
   "cell_type": "markdown",
   "metadata": {},
   "source": [
    "<hr>\n",
    "\n",
    "### Jawaban Nomor 3"
   ]
  },
  {
   "cell_type": "markdown",
   "metadata": {},
   "source": [
    "#### Boxplot"
   ]
  },
  {
   "cell_type": "code",
   "execution_count": 260,
   "metadata": {},
   "outputs": [
    {
     "data": {
      "image/png": "[encoded data removed]",
      "text/plain": [
       "<Figure size 1296x576 with 1 Axes>"
      ]
     },
     "metadata": {
      "needs_background": "light"
     },
     "output_type": "display_data"
    }
   ],
   "source": [
    "fig,axis= plt.subplots(figsize=(18,8))\n",
    "axis.boxplot([df[dfcols[0]],df[dfcols[1]],df[dfcols[2]],df[dfcols[3]],df[dfcols[4]],df[dfcols[5]],df[dfcols[6]]],vert=True)\n",
    "plt.xticks([1,2,3,4,5,6,7],[dfcols[0],dfcols[1],dfcols[2],dfcols[3],dfcols[4],dfcols[5],dfcols[6]])\n",
    "plt.show()"
   ]
  },
  {
   "cell_type": "markdown",
   "metadata": {},
   "source": [
    "#### Histogram"
   ]
  },
  {
   "cell_type": "code",
   "execution_count": 261,
   "metadata": {},
   "outputs": [
    {
     "data": {
      "image/png": "[encoded data removed]",
      "text/plain": [
       "<Figure size 432x288 with 1 Axes>"
      ]
     },
     "metadata": {
      "needs_background": "light"
     },
     "output_type": "display_data"
    }
   ],
   "source": [
    "bins0 = np.linspace((df[dfcols[0]].min()-0.5),(df[dfcols[0]].max()+0.5), 30)\n",
    "plt.hist(df[dfcols[0]], bins0)\n",
    "judul0 = dfcols[0] + ' Histogram'\n",
    "plt.title(judul0)\n",
    "plt.show()"
   ]
  },
  {
   "cell_type": "code",
   "execution_count": 262,
   "metadata": {},
   "outputs": [
    {
     "data": {
      "image/png": "[encoded data removed]",
      "text/plain": [
       "<Figure size 432x288 with 1 Axes>"
      ]
     },
     "metadata": {
      "needs_background": "light"
     },
     "output_type": "display_data"
    }
   ],
   "source": [
    "bins1 = np.linspace((df[dfcols[1]].min()-0.5),(df[dfcols[1]].max()+0.5), 30)\n",
    "plt.hist(df[dfcols[1]], bins1)\n",
    "judul1 = dfcols[1] + ' Histogram'\n",
    "plt.title(judul1)\n",
    "plt.show()"
   ]
  },
  {
   "cell_type": "code",
   "execution_count": 263,
   "metadata": {},
   "outputs": [
    {
     "data": {
      "image/png": "[encoded data removed]",
      "text/plain": [
       "<Figure size 432x288 with 1 Axes>"
      ]
     },
     "metadata": {
      "needs_background": "light"
     },
     "output_type": "display_data"
    }
   ],
   "source": [
    "bins2 = np.linspace((df[dfcols[2]].min()-0.5),(df[dfcols[2]].max()+0.5), 28)\n",
    "plt.hist(df[dfcols[2]], bins2)\n",
    "judul2 = dfcols[2] + ' Histogram'\n",
    "plt.title(judul2)\n",
    "plt.show()"
   ]
  },
  {
   "cell_type": "code",
   "execution_count": 264,
   "metadata": {},
   "outputs": [
    {
     "data": {
      "image/png": "[encoded data removed]",
      "text/plain": [
       "<Figure size 432x288 with 1 Axes>"
      ]
     },
     "metadata": {
      "needs_background": "light"
     },
     "output_type": "display_data"
    }
   ],
   "source": [
    "bins3 = np.linspace((df[dfcols[3]].min()-0.5),(df[dfcols[3]].max()+0.5), 29)\n",
    "x = plt.hist(df[dfcols[3]], bins3)\n",
    "judul3 = dfcols[3] + ' Histogram'\n",
    "plt.title(judul3)\n",
    "plt.show()"
   ]
  },
  {
   "cell_type": "code",
   "execution_count": 265,
   "metadata": {},
   "outputs": [
    {
     "data": {
      "image/png": "[encoded data removed]",
      "text/plain": [
       "<Figure size 432x288 with 1 Axes>"
      ]
     },
     "metadata": {
      "needs_background": "light"
     },
     "output_type": "display_data"
    }
   ],
   "source": [
    "bins4 = np.linspace((df[dfcols[4]].min()-0.5),(df[dfcols[4]].max()+0.5), 29)\n",
    "x = plt.hist(df[dfcols[4]], bins4)\n",
    "judul4 = dfcols[2] + ' Histogram'\n",
    "plt.title(judul4)\n",
    "plt.show()"
   ]
  },
  {
   "cell_type": "code",
   "execution_count": 266,
   "metadata": {},
   "outputs": [
    {
     "data": {
      "image/png": "[encoded data removed]",
      "text/plain": [
       "<Figure size 432x288 with 1 Axes>"
      ]
     },
     "metadata": {
      "needs_background": "light"
     },
     "output_type": "display_data"
    }
   ],
   "source": [
    "bins5 = np.linspace((df[dfcols[5]].min()-0.5),(df[dfcols[5]].max()+0.5), 29)\n",
    "x = plt.hist(df[dfcols[5]], bins5)\n",
    "judul5 = dfcols[5] + ' Histogram'\n",
    "plt.title(judul5)\n",
    "plt.show()"
   ]
  },
  {
   "cell_type": "code",
   "execution_count": 267,
   "metadata": {},
   "outputs": [
    {
     "data": {
      "image/png": "[encoded data removed]",
      "text/plain": [
       "<Figure size 432x288 with 1 Axes>"
      ]
     },
     "metadata": {
      "needs_background": "light"
     },
     "output_type": "display_data"
    }
   ],
   "source": [
    "bins6 = np.linspace((df[dfcols[6]].min()-0.5),(df[dfcols[6]].max()+0.5), 29)\n",
    "x = plt.hist(df[dfcols[6]], bins6)\n",
    "judul6 = dfcols[6] + ' Histogram'\n",
    "plt.title(judul6)\n",
    "plt.show()"
   ]
  },
  {
   "cell_type": "markdown",
   "metadata": {},
   "source": [
    "<hr>\n",
    "\n",
    "### Jawaban Nomor 4\n"
   ]
  },
  {
   "cell_type": "code",
   "execution_count": 268,
   "metadata": {},
   "outputs": [
    {
     "data": {
      "text/html": [
       "<div>\n",
       "<style scoped>\n",
       "    .dataframe tbody tr th:only-of-type {\n",
       "        vertical-align: middle;\n",
       "    }\n",
       "\n",
       "    .dataframe tbody tr th {\n",
       "        vertical-align: top;\n",
       "    }\n",
       "\n",
       "    .dataframe thead th {\n",
       "        text-align: right;\n",
       "    }\n",
       "</style>\n",
       "<table border=\"1\" class=\"dataframe\">\n",
       "  <thead>\n",
       "    <tr style=\"text-align: right;\">\n",
       "      <th></th>\n",
       "      <th>Score</th>\n",
       "      <th>GDP per capita</th>\n",
       "      <th>Social support</th>\n",
       "      <th>Healthy life expectancy</th>\n",
       "      <th>Freedom to make life choices</th>\n",
       "      <th>Generosity</th>\n",
       "      <th>Perceptions of corruption</th>\n",
       "    </tr>\n",
       "  </thead>\n",
       "  <tbody>\n",
       "    <tr>\n",
       "      <th>Score</th>\n",
       "      <td>1.239036</td>\n",
       "      <td>0.352052</td>\n",
       "      <td>0.258788</td>\n",
       "      <td>0.210189</td>\n",
       "      <td>0.090394</td>\n",
       "      <td>0.008040</td>\n",
       "      <td>0.040579</td>\n",
       "    </tr>\n",
       "    <tr>\n",
       "      <th>GDP per capita</th>\n",
       "      <td>0.352052</td>\n",
       "      <td>0.158714</td>\n",
       "      <td>0.089981</td>\n",
       "      <td>0.080588</td>\n",
       "      <td>0.021640</td>\n",
       "      <td>-0.003023</td>\n",
       "      <td>0.011258</td>\n",
       "    </tr>\n",
       "    <tr>\n",
       "      <th>Social support</th>\n",
       "      <td>0.258788</td>\n",
       "      <td>0.089981</td>\n",
       "      <td>0.089515</td>\n",
       "      <td>0.052086</td>\n",
       "      <td>0.019178</td>\n",
       "      <td>-0.001372</td>\n",
       "      <td>0.005145</td>\n",
       "    </tr>\n",
       "    <tr>\n",
       "      <th>Healthy life expectancy</th>\n",
       "      <td>0.210189</td>\n",
       "      <td>0.080588</td>\n",
       "      <td>0.052086</td>\n",
       "      <td>0.058624</td>\n",
       "      <td>0.013544</td>\n",
       "      <td>-0.000681</td>\n",
       "      <td>0.006759</td>\n",
       "    </tr>\n",
       "    <tr>\n",
       "      <th>Freedom to make life choices</th>\n",
       "      <td>0.090394</td>\n",
       "      <td>0.021640</td>\n",
       "      <td>0.019178</td>\n",
       "      <td>0.013544</td>\n",
       "      <td>0.020532</td>\n",
       "      <td>0.003682</td>\n",
       "      <td>0.005945</td>\n",
       "    </tr>\n",
       "    <tr>\n",
       "      <th>Generosity</th>\n",
       "      <td>0.008040</td>\n",
       "      <td>-0.003023</td>\n",
       "      <td>-0.001372</td>\n",
       "      <td>-0.000681</td>\n",
       "      <td>0.003682</td>\n",
       "      <td>0.009073</td>\n",
       "      <td>0.002941</td>\n",
       "    </tr>\n",
       "    <tr>\n",
       "      <th>Perceptions of corruption</th>\n",
       "      <td>0.040579</td>\n",
       "      <td>0.011258</td>\n",
       "      <td>0.005145</td>\n",
       "      <td>0.006759</td>\n",
       "      <td>0.005945</td>\n",
       "      <td>0.002941</td>\n",
       "      <td>0.008937</td>\n",
       "    </tr>\n",
       "  </tbody>\n",
       "</table>\n",
       "</div>"
      ],
      "text/plain": [
       "                                 Score  GDP per capita  Social support  \\\n",
       "Score                         1.239036        0.352052        0.258788   \n",
       "GDP per capita                0.352052        0.158714        0.089981   \n",
       "Social support                0.258788        0.089981        0.089515   \n",
       "Healthy life expectancy       0.210189        0.080588        0.052086   \n",
       "Freedom to make life choices  0.090394        0.021640        0.019178   \n",
       "Generosity                    0.008040       -0.003023       -0.001372   \n",
       "Perceptions of corruption     0.040579        0.011258        0.005145   \n",
       "\n",
       "                              Healthy life expectancy  \\\n",
       "Score                                        0.210189   \n",
       "GDP per capita                               0.080588   \n",
       "Social support                               0.052086   \n",
       "Healthy life expectancy                      0.058624   \n",
       "Freedom to make life choices                 0.013544   \n",
       "Generosity                                  -0.000681   \n",
       "Perceptions of corruption                    0.006759   \n",
       "\n",
       "                              Freedom to make life choices  Generosity  \\\n",
       "Score                                             0.090394    0.008040   \n",
       "GDP per capita                                    0.021640   -0.003023   \n",
       "Social support                                    0.019178   -0.001372   \n",
       "Healthy life expectancy                           0.013544   -0.000681   \n",
       "Freedom to make life choices                      0.020532    0.003682   \n",
       "Generosity                                        0.003682    0.009073   \n",
       "Perceptions of corruption                         0.005945    0.002941   \n",
       "\n",
       "                              Perceptions of corruption  \n",
       "Score                                          0.040579  \n",
       "GDP per capita                                 0.011258  \n",
       "Social support                                 0.005145  \n",
       "Healthy life expectancy                        0.006759  \n",
       "Freedom to make life choices                   0.005945  \n",
       "Generosity                                     0.002941  \n",
       "Perceptions of corruption                      0.008937  "
      ]
     },
     "execution_count": 268,
     "metadata": {},
     "output_type": "execute_result"
    }
   ],
   "source": [
    "df.cov()"
   ]
  },
  {
   "cell_type": "code",
   "execution_count": 269,
   "metadata": {},
   "outputs": [
    {
     "data": {
      "text/html": [
       "<div>\n",
       "<style scoped>\n",
       "    .dataframe tbody tr th:only-of-type {\n",
       "        vertical-align: middle;\n",
       "    }\n",
       "\n",
       "    .dataframe tbody tr th {\n",
       "        vertical-align: top;\n",
       "    }\n",
       "\n",
       "    .dataframe thead th {\n",
       "        text-align: right;\n",
       "    }\n",
       "</style>\n",
       "<table border=\"1\" class=\"dataframe\">\n",
       "  <thead>\n",
       "    <tr style=\"text-align: right;\">\n",
       "      <th></th>\n",
       "      <th>Score</th>\n",
       "      <th>GDP per capita</th>\n",
       "      <th>Social support</th>\n",
       "      <th>Healthy life expectancy</th>\n",
       "      <th>Freedom to make life choices</th>\n",
       "      <th>Generosity</th>\n",
       "      <th>Perceptions of corruption</th>\n",
       "    </tr>\n",
       "  </thead>\n",
       "  <tbody>\n",
       "    <tr>\n",
       "      <th>Score</th>\n",
       "      <td>1.000000</td>\n",
       "      <td>0.793883</td>\n",
       "      <td>0.777058</td>\n",
       "      <td>0.779883</td>\n",
       "      <td>0.566742</td>\n",
       "      <td>0.075824</td>\n",
       "      <td>0.385613</td>\n",
       "    </tr>\n",
       "    <tr>\n",
       "      <th>GDP per capita</th>\n",
       "      <td>0.793883</td>\n",
       "      <td>1.000000</td>\n",
       "      <td>0.754906</td>\n",
       "      <td>0.835462</td>\n",
       "      <td>0.379079</td>\n",
       "      <td>-0.079662</td>\n",
       "      <td>0.298920</td>\n",
       "    </tr>\n",
       "    <tr>\n",
       "      <th>Social support</th>\n",
       "      <td>0.777058</td>\n",
       "      <td>0.754906</td>\n",
       "      <td>1.000000</td>\n",
       "      <td>0.719009</td>\n",
       "      <td>0.447333</td>\n",
       "      <td>-0.048126</td>\n",
       "      <td>0.181899</td>\n",
       "    </tr>\n",
       "    <tr>\n",
       "      <th>Healthy life expectancy</th>\n",
       "      <td>0.779883</td>\n",
       "      <td>0.835462</td>\n",
       "      <td>0.719009</td>\n",
       "      <td>1.000000</td>\n",
       "      <td>0.390395</td>\n",
       "      <td>-0.029511</td>\n",
       "      <td>0.295283</td>\n",
       "    </tr>\n",
       "    <tr>\n",
       "      <th>Freedom to make life choices</th>\n",
       "      <td>0.566742</td>\n",
       "      <td>0.379079</td>\n",
       "      <td>0.447333</td>\n",
       "      <td>0.390395</td>\n",
       "      <td>1.000000</td>\n",
       "      <td>0.269742</td>\n",
       "      <td>0.438843</td>\n",
       "    </tr>\n",
       "    <tr>\n",
       "      <th>Generosity</th>\n",
       "      <td>0.075824</td>\n",
       "      <td>-0.079662</td>\n",
       "      <td>-0.048126</td>\n",
       "      <td>-0.029511</td>\n",
       "      <td>0.269742</td>\n",
       "      <td>1.000000</td>\n",
       "      <td>0.326538</td>\n",
       "    </tr>\n",
       "    <tr>\n",
       "      <th>Perceptions of corruption</th>\n",
       "      <td>0.385613</td>\n",
       "      <td>0.298920</td>\n",
       "      <td>0.181899</td>\n",
       "      <td>0.295283</td>\n",
       "      <td>0.438843</td>\n",
       "      <td>0.326538</td>\n",
       "      <td>1.000000</td>\n",
       "    </tr>\n",
       "  </tbody>\n",
       "</table>\n",
       "</div>"
      ],
      "text/plain": [
       "                                 Score  GDP per capita  Social support  \\\n",
       "Score                         1.000000        0.793883        0.777058   \n",
       "GDP per capita                0.793883        1.000000        0.754906   \n",
       "Social support                0.777058        0.754906        1.000000   \n",
       "Healthy life expectancy       0.779883        0.835462        0.719009   \n",
       "Freedom to make life choices  0.566742        0.379079        0.447333   \n",
       "Generosity                    0.075824       -0.079662       -0.048126   \n",
       "Perceptions of corruption     0.385613        0.298920        0.181899   \n",
       "\n",
       "                              Healthy life expectancy  \\\n",
       "Score                                        0.779883   \n",
       "GDP per capita                               0.835462   \n",
       "Social support                               0.719009   \n",
       "Healthy life expectancy                      1.000000   \n",
       "Freedom to make life choices                 0.390395   \n",
       "Generosity                                  -0.029511   \n",
       "Perceptions of corruption                    0.295283   \n",
       "\n",
       "                              Freedom to make life choices  Generosity  \\\n",
       "Score                                             0.566742    0.075824   \n",
       "GDP per capita                                    0.379079   -0.079662   \n",
       "Social support                                    0.447333   -0.048126   \n",
       "Healthy life expectancy                           0.390395   -0.029511   \n",
       "Freedom to make life choices                      1.000000    0.269742   \n",
       "Generosity                                        0.269742    1.000000   \n",
       "Perceptions of corruption                         0.438843    0.326538   \n",
       "\n",
       "                              Perceptions of corruption  \n",
       "Score                                          0.385613  \n",
       "GDP per capita                                 0.298920  \n",
       "Social support                                 0.181899  \n",
       "Healthy life expectancy                        0.295283  \n",
       "Freedom to make life choices                   0.438843  \n",
       "Generosity                                     0.326538  \n",
       "Perceptions of corruption                      1.000000  "
      ]
     },
     "execution_count": 269,
     "metadata": {},
     "output_type": "execute_result"
    }
   ],
   "source": [
    "df.corr(method='pearson')"
   ]
  },
  {
   "cell_type": "code",
   "execution_count": 270,
   "metadata": {},
   "outputs": [
    {
     "data": {
      "text/html": [
       "<div>\n",
       "<style scoped>\n",
       "    .dataframe tbody tr th:only-of-type {\n",
       "        vertical-align: middle;\n",
       "    }\n",
       "\n",
       "    .dataframe tbody tr th {\n",
       "        vertical-align: top;\n",
       "    }\n",
       "\n",
       "    .dataframe thead th {\n",
       "        text-align: right;\n",
       "    }\n",
       "</style>\n",
       "<table border=\"1\" class=\"dataframe\">\n",
       "  <thead>\n",
       "    <tr style=\"text-align: right;\">\n",
       "      <th></th>\n",
       "      <th>Score</th>\n",
       "      <th>GDP per capita</th>\n",
       "      <th>Social support</th>\n",
       "      <th>Healthy life expectancy</th>\n",
       "      <th>Freedom to make life choices</th>\n",
       "      <th>Generosity</th>\n",
       "      <th>Perceptions of corruption</th>\n",
       "    </tr>\n",
       "  </thead>\n",
       "  <tbody>\n",
       "    <tr>\n",
       "      <th>Score</th>\n",
       "      <td>1.000000</td>\n",
       "      <td>0.814483</td>\n",
       "      <td>0.816181</td>\n",
       "      <td>0.807275</td>\n",
       "      <td>0.551974</td>\n",
       "      <td>0.070483</td>\n",
       "      <td>0.217348</td>\n",
       "    </tr>\n",
       "    <tr>\n",
       "      <th>GDP per capita</th>\n",
       "      <td>0.814483</td>\n",
       "      <td>1.000000</td>\n",
       "      <td>0.768539</td>\n",
       "      <td>0.851513</td>\n",
       "      <td>0.393426</td>\n",
       "      <td>-0.041304</td>\n",
       "      <td>0.223203</td>\n",
       "    </tr>\n",
       "    <tr>\n",
       "      <th>Social support</th>\n",
       "      <td>0.816181</td>\n",
       "      <td>0.768539</td>\n",
       "      <td>1.000000</td>\n",
       "      <td>0.725997</td>\n",
       "      <td>0.449491</td>\n",
       "      <td>0.007695</td>\n",
       "      <td>0.114017</td>\n",
       "    </tr>\n",
       "    <tr>\n",
       "      <th>Healthy life expectancy</th>\n",
       "      <td>0.807275</td>\n",
       "      <td>0.851513</td>\n",
       "      <td>0.725997</td>\n",
       "      <td>1.000000</td>\n",
       "      <td>0.412906</td>\n",
       "      <td>-0.006773</td>\n",
       "      <td>0.165309</td>\n",
       "    </tr>\n",
       "    <tr>\n",
       "      <th>Freedom to make life choices</th>\n",
       "      <td>0.551974</td>\n",
       "      <td>0.393426</td>\n",
       "      <td>0.449491</td>\n",
       "      <td>0.412906</td>\n",
       "      <td>1.000000</td>\n",
       "      <td>0.324146</td>\n",
       "      <td>0.403586</td>\n",
       "    </tr>\n",
       "    <tr>\n",
       "      <th>Generosity</th>\n",
       "      <td>0.070483</td>\n",
       "      <td>-0.041304</td>\n",
       "      <td>0.007695</td>\n",
       "      <td>-0.006773</td>\n",
       "      <td>0.324146</td>\n",
       "      <td>1.000000</td>\n",
       "      <td>0.286171</td>\n",
       "    </tr>\n",
       "    <tr>\n",
       "      <th>Perceptions of corruption</th>\n",
       "      <td>0.217348</td>\n",
       "      <td>0.223203</td>\n",
       "      <td>0.114017</td>\n",
       "      <td>0.165309</td>\n",
       "      <td>0.403586</td>\n",
       "      <td>0.286171</td>\n",
       "      <td>1.000000</td>\n",
       "    </tr>\n",
       "  </tbody>\n",
       "</table>\n",
       "</div>"
      ],
      "text/plain": [
       "                                 Score  GDP per capita  Social support  \\\n",
       "Score                         1.000000        0.814483        0.816181   \n",
       "GDP per capita                0.814483        1.000000        0.768539   \n",
       "Social support                0.816181        0.768539        1.000000   \n",
       "Healthy life expectancy       0.807275        0.851513        0.725997   \n",
       "Freedom to make life choices  0.551974        0.393426        0.449491   \n",
       "Generosity                    0.070483       -0.041304        0.007695   \n",
       "Perceptions of corruption     0.217348        0.223203        0.114017   \n",
       "\n",
       "                              Healthy life expectancy  \\\n",
       "Score                                        0.807275   \n",
       "GDP per capita                               0.851513   \n",
       "Social support                               0.725997   \n",
       "Healthy life expectancy                      1.000000   \n",
       "Freedom to make life choices                 0.412906   \n",
       "Generosity                                  -0.006773   \n",
       "Perceptions of corruption                    0.165309   \n",
       "\n",
       "                              Freedom to make life choices  Generosity  \\\n",
       "Score                                             0.551974    0.070483   \n",
       "GDP per capita                                    0.393426   -0.041304   \n",
       "Social support                                    0.449491    0.007695   \n",
       "Healthy life expectancy                           0.412906   -0.006773   \n",
       "Freedom to make life choices                      1.000000    0.324146   \n",
       "Generosity                                        0.324146    1.000000   \n",
       "Perceptions of corruption                         0.403586    0.286171   \n",
       "\n",
       "                              Perceptions of corruption  \n",
       "Score                                          0.217348  \n",
       "GDP per capita                                 0.223203  \n",
       "Social support                                 0.114017  \n",
       "Healthy life expectancy                        0.165309  \n",
       "Freedom to make life choices                   0.403586  \n",
       "Generosity                                     0.286171  \n",
       "Perceptions of corruption                      1.000000  "
      ]
     },
     "execution_count": 270,
     "metadata": {},
     "output_type": "execute_result"
    }
   ],
   "source": [
    "df.corr(method='spearman')"
   ]
  },
  {
   "cell_type": "code",
   "execution_count": 271,
   "metadata": {},
   "outputs": [
    {
     "data": {
      "text/html": [
       "<div>\n",
       "<style scoped>\n",
       "    .dataframe tbody tr th:only-of-type {\n",
       "        vertical-align: middle;\n",
       "    }\n",
       "\n",
       "    .dataframe tbody tr th {\n",
       "        vertical-align: top;\n",
       "    }\n",
       "\n",
       "    .dataframe thead th {\n",
       "        text-align: right;\n",
       "    }\n",
       "</style>\n",
       "<table border=\"1\" class=\"dataframe\">\n",
       "  <thead>\n",
       "    <tr style=\"text-align: right;\">\n",
       "      <th></th>\n",
       "      <th>Score</th>\n",
       "      <th>GDP per capita</th>\n",
       "      <th>Social support</th>\n",
       "      <th>Healthy life expectancy</th>\n",
       "      <th>Freedom to make life choices</th>\n",
       "      <th>Generosity</th>\n",
       "      <th>Perceptions of corruption</th>\n",
       "    </tr>\n",
       "  </thead>\n",
       "  <tbody>\n",
       "    <tr>\n",
       "      <th>Score</th>\n",
       "      <td>1.000000</td>\n",
       "      <td>0.619993</td>\n",
       "      <td>0.616792</td>\n",
       "      <td>0.602613</td>\n",
       "      <td>0.394203</td>\n",
       "      <td>0.043759</td>\n",
       "      <td>0.140974</td>\n",
       "    </tr>\n",
       "    <tr>\n",
       "      <th>GDP per capita</th>\n",
       "      <td>0.619993</td>\n",
       "      <td>1.000000</td>\n",
       "      <td>0.569193</td>\n",
       "      <td>0.655693</td>\n",
       "      <td>0.270837</td>\n",
       "      <td>-0.042451</td>\n",
       "      <td>0.135225</td>\n",
       "    </tr>\n",
       "    <tr>\n",
       "      <th>Social support</th>\n",
       "      <td>0.616792</td>\n",
       "      <td>0.569193</td>\n",
       "      <td>1.000000</td>\n",
       "      <td>0.529983</td>\n",
       "      <td>0.319566</td>\n",
       "      <td>0.000746</td>\n",
       "      <td>0.070270</td>\n",
       "    </tr>\n",
       "    <tr>\n",
       "      <th>Healthy life expectancy</th>\n",
       "      <td>0.602613</td>\n",
       "      <td>0.655693</td>\n",
       "      <td>0.529983</td>\n",
       "      <td>1.000000</td>\n",
       "      <td>0.288418</td>\n",
       "      <td>-0.004901</td>\n",
       "      <td>0.106295</td>\n",
       "    </tr>\n",
       "    <tr>\n",
       "      <th>Freedom to make life choices</th>\n",
       "      <td>0.394203</td>\n",
       "      <td>0.270837</td>\n",
       "      <td>0.319566</td>\n",
       "      <td>0.288418</td>\n",
       "      <td>1.000000</td>\n",
       "      <td>0.226187</td>\n",
       "      <td>0.277792</td>\n",
       "    </tr>\n",
       "    <tr>\n",
       "      <th>Generosity</th>\n",
       "      <td>0.043759</td>\n",
       "      <td>-0.042451</td>\n",
       "      <td>0.000746</td>\n",
       "      <td>-0.004901</td>\n",
       "      <td>0.226187</td>\n",
       "      <td>1.000000</td>\n",
       "      <td>0.188933</td>\n",
       "    </tr>\n",
       "    <tr>\n",
       "      <th>Perceptions of corruption</th>\n",
       "      <td>0.140974</td>\n",
       "      <td>0.135225</td>\n",
       "      <td>0.070270</td>\n",
       "      <td>0.106295</td>\n",
       "      <td>0.277792</td>\n",
       "      <td>0.188933</td>\n",
       "      <td>1.000000</td>\n",
       "    </tr>\n",
       "  </tbody>\n",
       "</table>\n",
       "</div>"
      ],
      "text/plain": [
       "                                 Score  GDP per capita  Social support  \\\n",
       "Score                         1.000000        0.619993        0.616792   \n",
       "GDP per capita                0.619993        1.000000        0.569193   \n",
       "Social support                0.616792        0.569193        1.000000   \n",
       "Healthy life expectancy       0.602613        0.655693        0.529983   \n",
       "Freedom to make life choices  0.394203        0.270837        0.319566   \n",
       "Generosity                    0.043759       -0.042451        0.000746   \n",
       "Perceptions of corruption     0.140974        0.135225        0.070270   \n",
       "\n",
       "                              Healthy life expectancy  \\\n",
       "Score                                        0.602613   \n",
       "GDP per capita                               0.655693   \n",
       "Social support                               0.529983   \n",
       "Healthy life expectancy                      1.000000   \n",
       "Freedom to make life choices                 0.288418   \n",
       "Generosity                                  -0.004901   \n",
       "Perceptions of corruption                    0.106295   \n",
       "\n",
       "                              Freedom to make life choices  Generosity  \\\n",
       "Score                                             0.394203    0.043759   \n",
       "GDP per capita                                    0.270837   -0.042451   \n",
       "Social support                                    0.319566    0.000746   \n",
       "Healthy life expectancy                           0.288418   -0.004901   \n",
       "Freedom to make life choices                      1.000000    0.226187   \n",
       "Generosity                                        0.226187    1.000000   \n",
       "Perceptions of corruption                         0.277792    0.188933   \n",
       "\n",
       "                              Perceptions of corruption  \n",
       "Score                                          0.140974  \n",
       "GDP per capita                                 0.135225  \n",
       "Social support                                 0.070270  \n",
       "Healthy life expectancy                        0.106295  \n",
       "Freedom to make life choices                   0.277792  \n",
       "Generosity                                     0.188933  \n",
       "Perceptions of corruption                      1.000000  "
      ]
     },
     "execution_count": 271,
     "metadata": {},
     "output_type": "execute_result"
    }
   ],
   "source": [
    "df.corr(method='kendall')"
   ]
  },
  {
   "cell_type": "markdown",
   "metadata": {},
   "source": [
    "<hr>\n",
    "\n",
    "### Jawaban nomor 5"
   ]
  },
  {
   "cell_type": "code",
   "execution_count": 272,
   "metadata": {},
   "outputs": [
    {
     "data": {
      "text/html": [
       "<div>\n",
       "<style scoped>\n",
       "    .dataframe tbody tr th:only-of-type {\n",
       "        vertical-align: middle;\n",
       "    }\n",
       "\n",
       "    .dataframe tbody tr th {\n",
       "        vertical-align: top;\n",
       "    }\n",
       "\n",
       "    .dataframe thead th {\n",
       "        text-align: right;\n",
       "    }\n",
       "</style>\n",
       "<table border=\"1\" class=\"dataframe\">\n",
       "  <thead>\n",
       "    <tr style=\"text-align: right;\">\n",
       "      <th></th>\n",
       "      <th>Country or region</th>\n",
       "      <th>Score</th>\n",
       "      <th>GDP per capita</th>\n",
       "      <th>Social support</th>\n",
       "      <th>Healthy life expectancy</th>\n",
       "      <th>Freedom to make life choices</th>\n",
       "      <th>Generosity</th>\n",
       "      <th>Perceptions of corruption</th>\n",
       "    </tr>\n",
       "  </thead>\n",
       "  <tbody>\n",
       "    <tr>\n",
       "      <th>0</th>\n",
       "      <td>Finland</td>\n",
       "      <td>7.769</td>\n",
       "      <td>1.340</td>\n",
       "      <td>1.587</td>\n",
       "      <td>0.986</td>\n",
       "      <td>0.596</td>\n",
       "      <td>0.153</td>\n",
       "      <td>0.393</td>\n",
       "    </tr>\n",
       "    <tr>\n",
       "      <th>1</th>\n",
       "      <td>Denmark</td>\n",
       "      <td>7.600</td>\n",
       "      <td>1.383</td>\n",
       "      <td>1.573</td>\n",
       "      <td>0.996</td>\n",
       "      <td>0.592</td>\n",
       "      <td>0.252</td>\n",
       "      <td>0.410</td>\n",
       "    </tr>\n",
       "    <tr>\n",
       "      <th>2</th>\n",
       "      <td>Norway</td>\n",
       "      <td>7.554</td>\n",
       "      <td>1.488</td>\n",
       "      <td>1.582</td>\n",
       "      <td>1.028</td>\n",
       "      <td>0.603</td>\n",
       "      <td>0.271</td>\n",
       "      <td>0.341</td>\n",
       "    </tr>\n",
       "    <tr>\n",
       "      <th>3</th>\n",
       "      <td>Iceland</td>\n",
       "      <td>7.494</td>\n",
       "      <td>1.380</td>\n",
       "      <td>1.624</td>\n",
       "      <td>1.026</td>\n",
       "      <td>0.591</td>\n",
       "      <td>0.354</td>\n",
       "      <td>0.118</td>\n",
       "    </tr>\n",
       "    <tr>\n",
       "      <th>4</th>\n",
       "      <td>Netherlands</td>\n",
       "      <td>7.488</td>\n",
       "      <td>1.396</td>\n",
       "      <td>1.522</td>\n",
       "      <td>0.999</td>\n",
       "      <td>0.557</td>\n",
       "      <td>0.322</td>\n",
       "      <td>0.298</td>\n",
       "    </tr>\n",
       "    <tr>\n",
       "      <th>...</th>\n",
       "      <td>...</td>\n",
       "      <td>...</td>\n",
       "      <td>...</td>\n",
       "      <td>...</td>\n",
       "      <td>...</td>\n",
       "      <td>...</td>\n",
       "      <td>...</td>\n",
       "      <td>...</td>\n",
       "    </tr>\n",
       "    <tr>\n",
       "      <th>151</th>\n",
       "      <td>Rwanda</td>\n",
       "      <td>3.334</td>\n",
       "      <td>0.359</td>\n",
       "      <td>0.711</td>\n",
       "      <td>0.614</td>\n",
       "      <td>0.555</td>\n",
       "      <td>0.217</td>\n",
       "      <td>0.411</td>\n",
       "    </tr>\n",
       "    <tr>\n",
       "      <th>152</th>\n",
       "      <td>Tanzania</td>\n",
       "      <td>3.231</td>\n",
       "      <td>0.476</td>\n",
       "      <td>0.885</td>\n",
       "      <td>0.499</td>\n",
       "      <td>0.417</td>\n",
       "      <td>0.276</td>\n",
       "      <td>0.147</td>\n",
       "    </tr>\n",
       "    <tr>\n",
       "      <th>153</th>\n",
       "      <td>Afghanistan</td>\n",
       "      <td>3.203</td>\n",
       "      <td>0.350</td>\n",
       "      <td>0.517</td>\n",
       "      <td>0.361</td>\n",
       "      <td>0.000</td>\n",
       "      <td>0.158</td>\n",
       "      <td>0.025</td>\n",
       "    </tr>\n",
       "    <tr>\n",
       "      <th>154</th>\n",
       "      <td>Central African Republic</td>\n",
       "      <td>3.083</td>\n",
       "      <td>0.026</td>\n",
       "      <td>0.000</td>\n",
       "      <td>0.105</td>\n",
       "      <td>0.225</td>\n",
       "      <td>0.235</td>\n",
       "      <td>0.035</td>\n",
       "    </tr>\n",
       "    <tr>\n",
       "      <th>155</th>\n",
       "      <td>South Sudan</td>\n",
       "      <td>2.853</td>\n",
       "      <td>0.306</td>\n",
       "      <td>0.575</td>\n",
       "      <td>0.295</td>\n",
       "      <td>0.010</td>\n",
       "      <td>0.202</td>\n",
       "      <td>0.091</td>\n",
       "    </tr>\n",
       "  </tbody>\n",
       "</table>\n",
       "<p>156 rows × 8 columns</p>\n",
       "</div>"
      ],
      "text/plain": [
       "            Country or region  Score  GDP per capita  Social support  \\\n",
       "0                     Finland  7.769           1.340           1.587   \n",
       "1                     Denmark  7.600           1.383           1.573   \n",
       "2                      Norway  7.554           1.488           1.582   \n",
       "3                     Iceland  7.494           1.380           1.624   \n",
       "4                 Netherlands  7.488           1.396           1.522   \n",
       "..                        ...    ...             ...             ...   \n",
       "151                    Rwanda  3.334           0.359           0.711   \n",
       "152                  Tanzania  3.231           0.476           0.885   \n",
       "153               Afghanistan  3.203           0.350           0.517   \n",
       "154  Central African Republic  3.083           0.026           0.000   \n",
       "155               South Sudan  2.853           0.306           0.575   \n",
       "\n",
       "     Healthy life expectancy  Freedom to make life choices  Generosity  \\\n",
       "0                      0.986                         0.596       0.153   \n",
       "1                      0.996                         0.592       0.252   \n",
       "2                      1.028                         0.603       0.271   \n",
       "3                      1.026                         0.591       0.354   \n",
       "4                      0.999                         0.557       0.322   \n",
       "..                       ...                           ...         ...   \n",
       "151                    0.614                         0.555       0.217   \n",
       "152                    0.499                         0.417       0.276   \n",
       "153                    0.361                         0.000       0.158   \n",
       "154                    0.105                         0.225       0.235   \n",
       "155                    0.295                         0.010       0.202   \n",
       "\n",
       "     Perceptions of corruption  \n",
       "0                        0.393  \n",
       "1                        0.410  \n",
       "2                        0.341  \n",
       "3                        0.118  \n",
       "4                        0.298  \n",
       "..                         ...  \n",
       "151                      0.411  \n",
       "152                      0.147  \n",
       "153                      0.025  \n",
       "154                      0.035  \n",
       "155                      0.091  \n",
       "\n",
       "[156 rows x 8 columns]"
      ]
     },
     "execution_count": 272,
     "metadata": {},
     "output_type": "execute_result"
    }
   ],
   "source": [
    "df"
   ]
  },
  {
   "cell_type": "code",
   "execution_count": 273,
   "metadata": {},
   "outputs": [
    {
     "data": {
      "image/png": "[encoded data removed]",
      "text/plain": [
       "<Figure size 1296x432 with 3 Axes>"
      ]
     },
     "metadata": {
      "needs_background": "light"
     },
     "output_type": "display_data"
    }
   ],
   "source": [
    "plt.figure(figsize=(18,6))\n",
    "\n",
    "plt.subplot(131)\n",
    "dfa=df.copy()\n",
    "dfa = dfa.sort_values(by=['GDP per capita'], ascending=False)\n",
    "plt.bar(dfa[:10]['Country or region'],dfa[:10]['GDP per capita'],color='r')\n",
    "plt.xticks(rotation=90)\n",
    "plt.title('10 Negara dengan GDP per capita tertinggi.')\n",
    "\n",
    "plt.subplot(132)\n",
    "dfb=df.copy()\n",
    "dfb = dfb.sort_values(by=['Healthy life expectancy'], ascending=False)\n",
    "plt.bar(dfb[:10]['Country or region'],dfb[:10]['Healthy life expectancy'],color='g')\n",
    "plt.xticks(rotation=90)\n",
    "plt.title('10 Negara dengan Healthy life expectancy tertinggi.')\n",
    "\n",
    "plt.subplot(133)\n",
    "dfc=df.copy()\n",
    "dfc = dfc.sort_values(by=['Perceptions of corruption'], ascending=False)\n",
    "plt.bar(dfc[:10]['Country or region'],dfc[:10]['Perceptions of corruption'])\n",
    "plt.xticks(rotation=90)\n",
    "plt.title('10 Negara dengan Perceptions of corruption tertinggi')\n",
    "\n",
    "plt.show()"
   ]
  },
  {
   "cell_type": "code",
   "execution_count": null,
   "metadata": {},
   "outputs": [],
   "source": []
  }
 ],
 "metadata": {
  "kernelspec": {
   "display_name": "Python 3",
   "language": "python",
   "name": "python3"
  },
  "language_info": {
   "codemirror_mode": {
    "name": "ipython",
    "version": 3
   },
   "file_extension": ".py",
   "mimetype": "text/x-python",
   "name": "python",
   "nbconvert_exporter": "python",
   "pygments_lexer": "ipython3",
   "version": "3.8.1"
  }
 },
 "nbformat": 4,
 "nbformat_minor": 4
}
